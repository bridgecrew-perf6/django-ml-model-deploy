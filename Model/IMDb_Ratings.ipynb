{
 "cells": [
  {
   "cell_type": "code",
   "execution_count": 2,
   "metadata": {},
   "outputs": [],
   "source": [
    "# Importing the libraries\n",
    "import numpy as np\n",
    "import matplotlib.pyplot as plt\n",
    "import pandas as pd"
   ]
  },
  {
   "cell_type": "code",
   "execution_count": 3,
   "metadata": {},
   "outputs": [],
   "source": [
    "# Importing the dataset\n",
    "dataset = pd.read_csv('Movie_data1 - Sheet1.csv')"
   ]
  },
  {
   "cell_type": "code",
   "execution_count": 4,
   "metadata": {},
   "outputs": [],
   "source": [
    "#Preprocessing of data\n",
    "dataset['Duration']=dataset['Duration'].fillna(dataset['Duration'].mean())\n",
    "dataset['Budget']=dataset['Budget'].fillna(dataset['Budget'].mean())\n",
    "dataset=dataset[(dataset['Gross']>0) & (dataset['fb_likes'] >0) & (dataset['Budget'] >0)]"
   ]
  },
  {
   "cell_type": "code",
   "execution_count": 5,
   "metadata": {},
   "outputs": [
    {
     "data": {
      "text/html": [
       "<div>\n",
       "<style scoped>\n",
       "    .dataframe tbody tr th:only-of-type {\n",
       "        vertical-align: middle;\n",
       "    }\n",
       "\n",
       "    .dataframe tbody tr th {\n",
       "        vertical-align: top;\n",
       "    }\n",
       "\n",
       "    .dataframe thead th {\n",
       "        text-align: right;\n",
       "    }\n",
       "</style>\n",
       "<table border=\"1\" class=\"dataframe\">\n",
       "  <thead>\n",
       "    <tr style=\"text-align: right;\">\n",
       "      <th></th>\n",
       "      <th>Director_name</th>\n",
       "      <th>Num_reviews</th>\n",
       "      <th>Duration</th>\n",
       "      <th>Gross</th>\n",
       "      <th>Genre-1</th>\n",
       "      <th>Content_rating</th>\n",
       "      <th>Budget</th>\n",
       "      <th>Title_year</th>\n",
       "      <th>Imdb_score</th>\n",
       "      <th>Aspect_ratio</th>\n",
       "      <th>fb_likes</th>\n",
       "      <th>review</th>\n",
       "    </tr>\n",
       "  </thead>\n",
       "  <tbody>\n",
       "    <tr>\n",
       "      <td>0</td>\n",
       "      <td>James Cameron</td>\n",
       "      <td>723.0</td>\n",
       "      <td>178.0</td>\n",
       "      <td>760505847.0</td>\n",
       "      <td>Action</td>\n",
       "      <td>PG-13</td>\n",
       "      <td>2.370000e+08</td>\n",
       "      <td>2009.0</td>\n",
       "      <td>7.9</td>\n",
       "      <td>1.78</td>\n",
       "      <td>33000</td>\n",
       "      <td>One of the other reviewers has mentioned that ...</td>\n",
       "    </tr>\n",
       "    <tr>\n",
       "      <td>2</td>\n",
       "      <td>Sam Mendes</td>\n",
       "      <td>602.0</td>\n",
       "      <td>148.0</td>\n",
       "      <td>200074175.0</td>\n",
       "      <td>Action</td>\n",
       "      <td>PG-13</td>\n",
       "      <td>2.450000e+08</td>\n",
       "      <td>2015.0</td>\n",
       "      <td>6.8</td>\n",
       "      <td>2.35</td>\n",
       "      <td>85000</td>\n",
       "      <td>I thought this was a wonderful way to spend ti...</td>\n",
       "    </tr>\n",
       "    <tr>\n",
       "      <td>3</td>\n",
       "      <td>Christopher Nolan</td>\n",
       "      <td>813.0</td>\n",
       "      <td>164.0</td>\n",
       "      <td>448130642.0</td>\n",
       "      <td>Action</td>\n",
       "      <td>PG-13</td>\n",
       "      <td>2.500000e+08</td>\n",
       "      <td>2012.0</td>\n",
       "      <td>8.5</td>\n",
       "      <td>2.35</td>\n",
       "      <td>164000</td>\n",
       "      <td>Basically there's a family where a little boy ...</td>\n",
       "    </tr>\n",
       "    <tr>\n",
       "      <td>5</td>\n",
       "      <td>Andrew Stanton</td>\n",
       "      <td>462.0</td>\n",
       "      <td>132.0</td>\n",
       "      <td>73058679.0</td>\n",
       "      <td>Action</td>\n",
       "      <td>PG-13</td>\n",
       "      <td>2.637000e+08</td>\n",
       "      <td>2012.0</td>\n",
       "      <td>6.6</td>\n",
       "      <td>2.35</td>\n",
       "      <td>24000</td>\n",
       "      <td>Probably my all-time favorite movie, a story o...</td>\n",
       "    </tr>\n",
       "    <tr>\n",
       "      <td>7</td>\n",
       "      <td>Nathan Greno</td>\n",
       "      <td>324.0</td>\n",
       "      <td>100.0</td>\n",
       "      <td>200807262.0</td>\n",
       "      <td>Adventure</td>\n",
       "      <td>PG</td>\n",
       "      <td>2.600000e+08</td>\n",
       "      <td>2010.0</td>\n",
       "      <td>7.8</td>\n",
       "      <td>1.85</td>\n",
       "      <td>29000</td>\n",
       "      <td>This show was an amazing, fresh &amp; innovative i...</td>\n",
       "    </tr>\n",
       "    <tr>\n",
       "      <td>...</td>\n",
       "      <td>...</td>\n",
       "      <td>...</td>\n",
       "      <td>...</td>\n",
       "      <td>...</td>\n",
       "      <td>...</td>\n",
       "      <td>...</td>\n",
       "      <td>...</td>\n",
       "      <td>...</td>\n",
       "      <td>...</td>\n",
       "      <td>...</td>\n",
       "      <td>...</td>\n",
       "      <td>...</td>\n",
       "    </tr>\n",
       "    <tr>\n",
       "      <td>5033</td>\n",
       "      <td>Shane Carruth</td>\n",
       "      <td>143.0</td>\n",
       "      <td>77.0</td>\n",
       "      <td>424760.0</td>\n",
       "      <td>Drama</td>\n",
       "      <td>PG-13</td>\n",
       "      <td>7.000000e+03</td>\n",
       "      <td>2004.0</td>\n",
       "      <td>7.0</td>\n",
       "      <td>1.85</td>\n",
       "      <td>19000</td>\n",
       "      <td>NaN</td>\n",
       "    </tr>\n",
       "    <tr>\n",
       "      <td>5034</td>\n",
       "      <td>Neill Dela Llana</td>\n",
       "      <td>35.0</td>\n",
       "      <td>80.0</td>\n",
       "      <td>70071.0</td>\n",
       "      <td>Thriller</td>\n",
       "      <td>Not Rated</td>\n",
       "      <td>7.000000e+03</td>\n",
       "      <td>2005.0</td>\n",
       "      <td>6.3</td>\n",
       "      <td>NaN</td>\n",
       "      <td>74</td>\n",
       "      <td>NaN</td>\n",
       "    </tr>\n",
       "    <tr>\n",
       "      <td>5037</td>\n",
       "      <td>Edward Burns</td>\n",
       "      <td>14.0</td>\n",
       "      <td>95.0</td>\n",
       "      <td>4584.0</td>\n",
       "      <td>Comedy</td>\n",
       "      <td>Not Rated</td>\n",
       "      <td>9.000000e+03</td>\n",
       "      <td>2011.0</td>\n",
       "      <td>6.4</td>\n",
       "      <td>NaN</td>\n",
       "      <td>413</td>\n",
       "      <td>NaN</td>\n",
       "    </tr>\n",
       "    <tr>\n",
       "      <td>5041</td>\n",
       "      <td>Daniel Hsia</td>\n",
       "      <td>14.0</td>\n",
       "      <td>100.0</td>\n",
       "      <td>10443.0</td>\n",
       "      <td>Comedy</td>\n",
       "      <td>PG-13</td>\n",
       "      <td>3.975262e+07</td>\n",
       "      <td>2012.0</td>\n",
       "      <td>6.3</td>\n",
       "      <td>2.35</td>\n",
       "      <td>660</td>\n",
       "      <td>NaN</td>\n",
       "    </tr>\n",
       "    <tr>\n",
       "      <td>5042</td>\n",
       "      <td>Jon Gunn</td>\n",
       "      <td>43.0</td>\n",
       "      <td>90.0</td>\n",
       "      <td>85222.0</td>\n",
       "      <td>Documentary</td>\n",
       "      <td>PG</td>\n",
       "      <td>1.100000e+03</td>\n",
       "      <td>2004.0</td>\n",
       "      <td>6.6</td>\n",
       "      <td>1.85</td>\n",
       "      <td>456</td>\n",
       "      <td>NaN</td>\n",
       "    </tr>\n",
       "  </tbody>\n",
       "</table>\n",
       "<p>2266 rows × 12 columns</p>\n",
       "</div>"
      ],
      "text/plain": [
       "          Director_name  Num_reviews  Duration        Gross      Genre-1  \\\n",
       "0         James Cameron        723.0     178.0  760505847.0       Action   \n",
       "2            Sam Mendes        602.0     148.0  200074175.0       Action   \n",
       "3     Christopher Nolan        813.0     164.0  448130642.0       Action   \n",
       "5        Andrew Stanton        462.0     132.0   73058679.0       Action   \n",
       "7          Nathan Greno        324.0     100.0  200807262.0    Adventure   \n",
       "...                 ...          ...       ...          ...          ...   \n",
       "5033      Shane Carruth        143.0      77.0     424760.0        Drama   \n",
       "5034   Neill Dela Llana         35.0      80.0      70071.0     Thriller   \n",
       "5037       Edward Burns         14.0      95.0       4584.0       Comedy   \n",
       "5041        Daniel Hsia         14.0     100.0      10443.0       Comedy   \n",
       "5042           Jon Gunn         43.0      90.0      85222.0  Documentary   \n",
       "\n",
       "     Content_rating        Budget  Title_year  Imdb_score  Aspect_ratio  \\\n",
       "0             PG-13  2.370000e+08      2009.0         7.9          1.78   \n",
       "2             PG-13  2.450000e+08      2015.0         6.8          2.35   \n",
       "3             PG-13  2.500000e+08      2012.0         8.5          2.35   \n",
       "5             PG-13  2.637000e+08      2012.0         6.6          2.35   \n",
       "7                PG  2.600000e+08      2010.0         7.8          1.85   \n",
       "...             ...           ...         ...         ...           ...   \n",
       "5033          PG-13  7.000000e+03      2004.0         7.0          1.85   \n",
       "5034      Not Rated  7.000000e+03      2005.0         6.3           NaN   \n",
       "5037      Not Rated  9.000000e+03      2011.0         6.4           NaN   \n",
       "5041          PG-13  3.975262e+07      2012.0         6.3          2.35   \n",
       "5042             PG  1.100000e+03      2004.0         6.6          1.85   \n",
       "\n",
       "      fb_likes                                             review  \n",
       "0        33000  One of the other reviewers has mentioned that ...  \n",
       "2        85000  I thought this was a wonderful way to spend ti...  \n",
       "3       164000  Basically there's a family where a little boy ...  \n",
       "5        24000  Probably my all-time favorite movie, a story o...  \n",
       "7        29000  This show was an amazing, fresh & innovative i...  \n",
       "...        ...                                                ...  \n",
       "5033     19000                                                NaN  \n",
       "5034        74                                                NaN  \n",
       "5037       413                                                NaN  \n",
       "5041       660                                                NaN  \n",
       "5042       456                                                NaN  \n",
       "\n",
       "[2266 rows x 12 columns]"
      ]
     },
     "execution_count": 5,
     "metadata": {},
     "output_type": "execute_result"
    }
   ],
   "source": [
    "#Dependent and Independent variables\n",
    "X = dataset.iloc[:, [2,6,8,10]]\n",
    "y = dataset.iloc[:, 3]\n",
    "\n",
    "dataset"
   ]
  },
  {
   "cell_type": "code",
   "execution_count": 6,
   "metadata": {},
   "outputs": [
    {
     "data": {
      "text/html": [
       "<div>\n",
       "<style scoped>\n",
       "    .dataframe tbody tr th:only-of-type {\n",
       "        vertical-align: middle;\n",
       "    }\n",
       "\n",
       "    .dataframe tbody tr th {\n",
       "        vertical-align: top;\n",
       "    }\n",
       "\n",
       "    .dataframe thead th {\n",
       "        text-align: right;\n",
       "    }\n",
       "</style>\n",
       "<table border=\"1\" class=\"dataframe\">\n",
       "  <thead>\n",
       "    <tr style=\"text-align: right;\">\n",
       "      <th></th>\n",
       "      <th>Duration</th>\n",
       "      <th>Budget</th>\n",
       "      <th>Imdb_score</th>\n",
       "      <th>fb_likes</th>\n",
       "    </tr>\n",
       "  </thead>\n",
       "  <tbody>\n",
       "    <tr>\n",
       "      <td>0</td>\n",
       "      <td>178.0</td>\n",
       "      <td>2.370000e+08</td>\n",
       "      <td>7.9</td>\n",
       "      <td>33000</td>\n",
       "    </tr>\n",
       "    <tr>\n",
       "      <td>2</td>\n",
       "      <td>148.0</td>\n",
       "      <td>2.450000e+08</td>\n",
       "      <td>6.8</td>\n",
       "      <td>85000</td>\n",
       "    </tr>\n",
       "    <tr>\n",
       "      <td>3</td>\n",
       "      <td>164.0</td>\n",
       "      <td>2.500000e+08</td>\n",
       "      <td>8.5</td>\n",
       "      <td>164000</td>\n",
       "    </tr>\n",
       "    <tr>\n",
       "      <td>5</td>\n",
       "      <td>132.0</td>\n",
       "      <td>2.637000e+08</td>\n",
       "      <td>6.6</td>\n",
       "      <td>24000</td>\n",
       "    </tr>\n",
       "    <tr>\n",
       "      <td>7</td>\n",
       "      <td>100.0</td>\n",
       "      <td>2.600000e+08</td>\n",
       "      <td>7.8</td>\n",
       "      <td>29000</td>\n",
       "    </tr>\n",
       "    <tr>\n",
       "      <td>...</td>\n",
       "      <td>...</td>\n",
       "      <td>...</td>\n",
       "      <td>...</td>\n",
       "      <td>...</td>\n",
       "    </tr>\n",
       "    <tr>\n",
       "      <td>5033</td>\n",
       "      <td>77.0</td>\n",
       "      <td>7.000000e+03</td>\n",
       "      <td>7.0</td>\n",
       "      <td>19000</td>\n",
       "    </tr>\n",
       "    <tr>\n",
       "      <td>5034</td>\n",
       "      <td>80.0</td>\n",
       "      <td>7.000000e+03</td>\n",
       "      <td>6.3</td>\n",
       "      <td>74</td>\n",
       "    </tr>\n",
       "    <tr>\n",
       "      <td>5037</td>\n",
       "      <td>95.0</td>\n",
       "      <td>9.000000e+03</td>\n",
       "      <td>6.4</td>\n",
       "      <td>413</td>\n",
       "    </tr>\n",
       "    <tr>\n",
       "      <td>5041</td>\n",
       "      <td>100.0</td>\n",
       "      <td>3.975262e+07</td>\n",
       "      <td>6.3</td>\n",
       "      <td>660</td>\n",
       "    </tr>\n",
       "    <tr>\n",
       "      <td>5042</td>\n",
       "      <td>90.0</td>\n",
       "      <td>1.100000e+03</td>\n",
       "      <td>6.6</td>\n",
       "      <td>456</td>\n",
       "    </tr>\n",
       "  </tbody>\n",
       "</table>\n",
       "<p>2266 rows × 4 columns</p>\n",
       "</div>"
      ],
      "text/plain": [
       "      Duration        Budget  Imdb_score  fb_likes\n",
       "0        178.0  2.370000e+08         7.9     33000\n",
       "2        148.0  2.450000e+08         6.8     85000\n",
       "3        164.0  2.500000e+08         8.5    164000\n",
       "5        132.0  2.637000e+08         6.6     24000\n",
       "7        100.0  2.600000e+08         7.8     29000\n",
       "...        ...           ...         ...       ...\n",
       "5033      77.0  7.000000e+03         7.0     19000\n",
       "5034      80.0  7.000000e+03         6.3        74\n",
       "5037      95.0  9.000000e+03         6.4       413\n",
       "5041     100.0  3.975262e+07         6.3       660\n",
       "5042      90.0  1.100000e+03         6.6       456\n",
       "\n",
       "[2266 rows x 4 columns]"
      ]
     },
     "execution_count": 6,
     "metadata": {},
     "output_type": "execute_result"
    }
   ],
   "source": [
    "X"
   ]
  },
  {
   "cell_type": "code",
   "execution_count": 7,
   "metadata": {},
   "outputs": [
    {
     "data": {
      "text/plain": [
       "0       760505847.0\n",
       "2       200074175.0\n",
       "3       448130642.0\n",
       "5        73058679.0\n",
       "7       200807262.0\n",
       "           ...     \n",
       "5033       424760.0\n",
       "5034        70071.0\n",
       "5037         4584.0\n",
       "5041        10443.0\n",
       "5042        85222.0\n",
       "Name: Gross, Length: 2266, dtype: float64"
      ]
     },
     "execution_count": 7,
     "metadata": {},
     "output_type": "execute_result"
    }
   ],
   "source": [
    "y"
   ]
  },
  {
   "cell_type": "code",
   "execution_count": 8,
   "metadata": {},
   "outputs": [],
   "source": [
    "# Splitting the dataset into the Training set and Test set\n",
    "from sklearn.model_selection import train_test_split\n",
    "X_train, X_test, y_train, y_test = train_test_split(X, y, test_size = 0.2, random_state = 0)"
   ]
  },
  {
   "cell_type": "code",
   "execution_count": 9,
   "metadata": {},
   "outputs": [
    {
     "data": {
      "text/plain": [
       "LinearRegression(copy_X=True, fit_intercept=True, n_jobs=None, normalize=False)"
      ]
     },
     "execution_count": 9,
     "metadata": {},
     "output_type": "execute_result"
    }
   ],
   "source": [
    "# Fitting Multiple Linear Regression to the Training set\n",
    "from sklearn.linear_model import LinearRegression\n",
    "regressor = LinearRegression()\n",
    "regressor.fit(X_train, y_train)"
   ]
  },
  {
   "cell_type": "code",
   "execution_count": 10,
   "metadata": {},
   "outputs": [
    {
     "data": {
      "text/plain": [
       "array([1.11503840e+08, 1.29047533e+08, 6.79078525e+07, 1.77050245e+07,\n",
       "       5.54770753e+07, 1.96477513e+07, 3.31872469e+07, 5.74146777e+07,\n",
       "       2.74486314e+07, 7.46303823e+07, 5.38595118e+07, 5.92657719e+07,\n",
       "       5.90364742e+07, 2.25960434e+07, 5.03236914e+07, 3.03126124e+07,\n",
       "       5.56303339e+07, 2.55172728e+07, 2.77592944e+07, 2.43093510e+07,\n",
       "       4.08311076e+07, 4.15613832e+07, 3.59750692e+07, 5.25700448e+07,\n",
       "       4.55474847e+07, 9.14590095e+07, 1.24968190e+08, 1.46658460e+07,\n",
       "       2.91862799e+07, 6.08481722e+07, 5.14925710e+07, 4.36856373e+07,\n",
       "       5.79838304e+07, 2.27590459e+07, 9.93364275e+07, 7.67621158e+07,\n",
       "       5.25182530e+07, 1.98503074e+07, 5.20816089e+07, 9.94903453e+07,\n",
       "       2.63614313e+07, 4.68409888e+07, 4.40811967e+07, 6.86158403e+07,\n",
       "       4.07608654e+07, 5.22451263e+07, 5.60759794e+07, 1.24496937e+08,\n",
       "       4.02896676e+07, 2.97485669e+07, 5.32945234e+07, 3.35929849e+07,\n",
       "       2.60478432e+07, 8.36546595e+07, 4.11305533e+07, 5.22037734e+07,\n",
       "       5.60668145e+07, 3.25883493e+07, 1.90389798e+08, 8.73650104e+07,\n",
       "       2.05538346e+07, 6.25564104e+07, 2.70676089e+07, 3.34082177e+07,\n",
       "       3.39959400e+07, 8.54379976e+07, 2.78266785e+07, 2.92916730e+07,\n",
       "       3.39581316e+07, 2.45205670e+07, 4.88242000e+07, 1.98819228e+07,\n",
       "       2.51553242e+07, 3.20748296e+07, 2.50373406e+07, 2.57910875e+07,\n",
       "       3.85268843e+07, 2.32334626e+07, 3.81898156e+07, 7.30485506e+07,\n",
       "       3.43479945e+07, 2.35797105e+07, 6.78360912e+07, 4.44591679e+07,\n",
       "       1.03266265e+07, 3.28134317e+07, 4.07036614e+07, 2.45036739e+07,\n",
       "       1.92927084e+07, 3.09353747e+07, 5.54795633e+06, 5.64189072e+07,\n",
       "       1.41121078e+07, 5.20874389e+07, 2.04935316e+07, 6.09679720e+07,\n",
       "       6.52982159e+07, 1.00212208e+08, 1.71775255e+07, 3.73567140e+07,\n",
       "       3.33461560e+07, 6.95583323e+07, 2.28869054e+07, 5.74714535e+07,\n",
       "       3.51627711e+07, 2.23870125e+07, 3.27453431e+07, 1.22445591e+08,\n",
       "       1.27740471e+07, 2.31077060e+07, 6.29448077e+07, 1.94878864e+07,\n",
       "       4.88995832e+07, 4.26724331e+07, 6.60729907e+07, 4.34269603e+07,\n",
       "       3.92828032e+07, 9.39222791e+07, 1.35066896e+07, 9.20216465e+07,\n",
       "       3.92092980e+07, 1.88980482e+07, 3.25652355e+07, 1.75712538e+07,\n",
       "       8.61859372e+07, 6.07304728e+07, 4.89991586e+07, 7.52663936e+07,\n",
       "       2.84309505e+07, 3.62577913e+07, 6.67625341e+07, 3.47323076e+07,\n",
       "       1.51036785e+08, 2.93093746e+07, 5.53895419e+07, 4.67347827e+07,\n",
       "       1.82815886e+07, 4.77560680e+07, 3.33477834e+07, 4.45664384e+07,\n",
       "       3.37085509e+07, 8.32052805e+07, 2.39401855e+07, 3.73907392e+07,\n",
       "       2.29066610e+08, 3.36374914e+07, 5.88037663e+07, 4.17460432e+07,\n",
       "       9.67585129e+06, 7.63940749e+06, 2.47765675e+07, 9.00131053e+06,\n",
       "       3.59209225e+07, 1.36660942e+08, 1.40183720e+07, 1.79751626e+07,\n",
       "       4.71697744e+07, 1.63594646e+07, 9.19377452e+07, 2.34402638e+07,\n",
       "       2.90703372e+07, 3.33579643e+07, 5.29290947e+07, 1.72211262e+07,\n",
       "       6.01287782e+07, 6.36422948e+07, 3.36248644e+07, 1.12726384e+08,\n",
       "       8.84730651e+07, 3.11905500e+07, 2.09297979e+08, 1.42900377e+08,\n",
       "       1.00152189e+08, 8.66592113e+07, 8.62749918e+07, 3.80712080e+07,\n",
       "       2.34224314e+07, 2.42263796e+07, 9.52405605e+07, 2.87001706e+07,\n",
       "       9.48044740e+06, 2.68434109e+07, 2.38541923e+07, 2.65192623e+07,\n",
       "       2.01158549e+07, 9.80871832e+07, 6.64754118e+07, 2.30965904e+07,\n",
       "       4.04164477e+07, 3.17649993e+07, 2.14145330e+07, 2.99380302e+07,\n",
       "       4.36771816e+07, 2.76450467e+07, 9.57466238e+07, 4.44307836e+07,\n",
       "       2.13733765e+07, 7.26431276e+07, 3.85231968e+07, 5.81211338e+07,\n",
       "       4.85172516e+07, 8.26769842e+07, 1.40542391e+07, 2.84752841e+07,\n",
       "       6.94628460e+07, 5.61378441e+07, 2.16128888e+07, 4.88541147e+07,\n",
       "       2.55817499e+07, 1.11736756e+08, 4.93824371e+07, 4.86609437e+07,\n",
       "       2.77438241e+07, 5.63773785e+07, 2.83096193e+07, 7.20213046e+07,\n",
       "       4.99668235e+07, 3.15170231e+07, 4.60670310e+07, 1.22699907e+08,\n",
       "       7.94909083e+07, 3.31784954e+07, 5.48441111e+07, 2.71171045e+07,\n",
       "       8.40095287e+07, 3.40091458e+07, 3.95199239e+07, 2.45173453e+07,\n",
       "       5.97082371e+07, 6.47344461e+07, 9.94903453e+07, 4.65639100e+07,\n",
       "       2.57017565e+07, 2.06197128e+07, 7.48488727e+07, 4.49166373e+07,\n",
       "       8.15013584e+06, 1.96305127e+07, 2.66519862e+07, 7.61843079e+07,\n",
       "       2.89399604e+07, 5.23524163e+07, 1.75685304e+07, 1.32126592e+08,\n",
       "       2.12418689e+08, 2.10077306e+07, 4.07642425e+07, 4.89911207e+07,\n",
       "       6.25430788e+07, 3.88034112e+07, 6.47007687e+07, 7.57353167e+06,\n",
       "       4.87445838e+07, 7.44880164e+07, 6.02875373e+07, 7.43043499e+07,\n",
       "       1.42560142e+07, 3.79401793e+07, 5.92258271e+07, 3.19466191e+07,\n",
       "       7.27139216e+07, 1.02127887e+08, 6.13918290e+07, 5.57119659e+06,\n",
       "       5.62339741e+07, 5.75085112e+07, 4.47447421e+07, 6.33831888e+07,\n",
       "       6.75255471e+07, 2.56238916e+08, 8.40125071e+07, 2.72575733e+07,\n",
       "       5.39970077e+07, 1.68613048e+08, 7.27548959e+07, 4.09318100e+07,\n",
       "       1.97009650e+07, 4.50679638e+07, 3.26848973e+07, 9.04232876e+07,\n",
       "       1.66755136e+07, 2.60480489e+07, 6.83115410e+07, 4.54886706e+07,\n",
       "       2.11146341e+07, 1.76648757e+07, 1.50735018e+07, 1.25017800e+08,\n",
       "       3.37984603e+07, 1.52993787e+07, 4.40731818e+07, 5.03159278e+07,\n",
       "       7.87223494e+07, 2.24241288e+07, 9.50661892e+07, 4.15834981e+07,\n",
       "       4.96131856e+07, 2.33027133e+07, 6.78279650e+07, 2.17437012e+07,\n",
       "       2.90769365e+07, 1.20537750e+08, 7.65058457e+07, 1.84109658e+07,\n",
       "       7.79540517e+07, 3.16083236e+07, 9.24543551e+07, 4.30308524e+07,\n",
       "       4.95568245e+07, 2.87373664e+07, 3.69521879e+07, 8.99144792e+06,\n",
       "       1.91634476e+08, 4.72109379e+07, 5.46328558e+07, 2.29530391e+07,\n",
       "       2.97621755e+07, 4.14479267e+07, 1.48269876e+07, 6.10556492e+07,\n",
       "       2.39036001e+07, 6.16066911e+07, 2.46709445e+07, 6.62469065e+07,\n",
       "       1.51058865e+08, 2.22704878e+07, 7.45031552e+07, 3.85294712e+07,\n",
       "       4.66371961e+07, 1.60044307e+08, 5.02899716e+07, 6.20804849e+07,\n",
       "       3.46451416e+07, 3.76558805e+07, 2.57017565e+07, 4.37248940e+07,\n",
       "       8.89762316e+07, 5.25810350e+07, 5.91113863e+07, 2.66549895e+07,\n",
       "       8.56804812e+07, 2.98144229e+07, 1.34657312e+07, 5.64237319e+07,\n",
       "       6.31060420e+07, 3.34540668e+07, 5.31773495e+07, 2.71112892e+07,\n",
       "       2.73451456e+07, 9.68645037e+06, 2.55344377e+07, 8.26159722e+07,\n",
       "       1.91560671e+08, 4.36969027e+07, 2.00086641e+07, 6.21632559e+07,\n",
       "       1.85718932e+07, 1.76284341e+07, 1.85417658e+07, 3.55050004e+07,\n",
       "       2.74643463e+07, 4.46811856e+07, 2.64069290e+07, 1.91490925e+07,\n",
       "       7.44281769e+07, 1.01046616e+08, 3.20785249e+07, 2.13392660e+07,\n",
       "       4.48088406e+07, 6.04181293e+07, 1.29330371e+08, 6.04237632e+07,\n",
       "       2.24754330e+07, 1.83065169e+08, 4.24690484e+07, 3.93371489e+07,\n",
       "       8.00027498e+07, 4.21444504e+07, 1.63899334e+08, 1.69512043e+08,\n",
       "       4.25600926e+07, 5.57889086e+06, 7.79332497e+07, 3.38685183e+07,\n",
       "       1.90914367e+07, 1.57210975e+08, 1.98796212e+07, 3.19934446e+07,\n",
       "       6.07994574e+07, 4.19506455e+07, 3.72982426e+07, 5.84496773e+07,\n",
       "       4.32749041e+07, 2.14572854e+07, 4.23338825e+07, 2.83139443e+07,\n",
       "       4.55395774e+07, 1.84767150e+07, 2.24094313e+07, 2.02278981e+07,\n",
       "       3.46813659e+07, 3.76164951e+07, 7.74851803e+07, 9.35863406e+07,\n",
       "       4.27386513e+07, 5.67877823e+07, 1.07013217e+08, 3.50168012e+07,\n",
       "       9.36367561e+06, 1.03741649e+08, 4.64250813e+07, 1.29640445e+07,\n",
       "       1.76909576e+07, 2.63560623e+07, 6.02923420e+07, 8.26769842e+07,\n",
       "       9.35045166e+07, 1.73197205e+07, 1.56848179e+07, 5.34932404e+07,\n",
       "       2.07867251e+07, 9.68110030e+07, 3.02665788e+07, 5.04717890e+07,\n",
       "       2.15799572e+07, 7.82864630e+07, 5.15468391e+07, 3.05764893e+07,\n",
       "       2.61723596e+07, 1.69757469e+07, 6.58777945e+07, 6.18341397e+07,\n",
       "       5.34312486e+07, 2.03307250e+07, 6.80409672e+07, 2.06771170e+07,\n",
       "       3.21516952e+07, 2.00399371e+07, 2.56293988e+07, 2.12069885e+07,\n",
       "       1.61853610e+07, 3.61839079e+07, 1.03596573e+08, 1.54040007e+07,\n",
       "       3.74911494e+07, 4.18363461e+07, 3.11364457e+07, 4.64446489e+07,\n",
       "       2.49098673e+07, 6.83808230e+07, 6.69370557e+07, 2.49376894e+07,\n",
       "       2.77630974e+07, 3.14802499e+07])"
      ]
     },
     "execution_count": 10,
     "metadata": {},
     "output_type": "execute_result"
    }
   ],
   "source": [
    "# Predicting the Test set results\n",
    "y_pred = regressor.predict(X_test)\n",
    "y_pred"
   ]
  },
  {
   "cell_type": "code",
   "execution_count": 11,
   "metadata": {},
   "outputs": [
    {
     "data": {
      "text/html": [
       "<div>\n",
       "<style scoped>\n",
       "    .dataframe tbody tr th:only-of-type {\n",
       "        vertical-align: middle;\n",
       "    }\n",
       "\n",
       "    .dataframe tbody tr th {\n",
       "        vertical-align: top;\n",
       "    }\n",
       "\n",
       "    .dataframe thead th {\n",
       "        text-align: right;\n",
       "    }\n",
       "</style>\n",
       "<table border=\"1\" class=\"dataframe\">\n",
       "  <thead>\n",
       "    <tr style=\"text-align: right;\">\n",
       "      <th></th>\n",
       "      <th>Duration</th>\n",
       "      <th>Budget</th>\n",
       "      <th>Imdb_score</th>\n",
       "      <th>fb_likes</th>\n",
       "    </tr>\n",
       "  </thead>\n",
       "  <tbody>\n",
       "    <tr>\n",
       "      <td>92</td>\n",
       "      <td>120.0</td>\n",
       "      <td>1.650000e+08</td>\n",
       "      <td>5.5</td>\n",
       "      <td>67000</td>\n",
       "    </tr>\n",
       "    <tr>\n",
       "      <td>1197</td>\n",
       "      <td>120.0</td>\n",
       "      <td>4.000000e+07</td>\n",
       "      <td>7.7</td>\n",
       "      <td>74000</td>\n",
       "    </tr>\n",
       "    <tr>\n",
       "      <td>2092</td>\n",
       "      <td>170.0</td>\n",
       "      <td>2.200000e+07</td>\n",
       "      <td>5.6</td>\n",
       "      <td>15000</td>\n",
       "    </tr>\n",
       "    <tr>\n",
       "      <td>1313</td>\n",
       "      <td>84.0</td>\n",
       "      <td>4.000000e+07</td>\n",
       "      <td>5.8</td>\n",
       "      <td>565</td>\n",
       "    </tr>\n",
       "    <tr>\n",
       "      <td>1393</td>\n",
       "      <td>106.0</td>\n",
       "      <td>3.600000e+07</td>\n",
       "      <td>7.8</td>\n",
       "      <td>17000</td>\n",
       "    </tr>\n",
       "    <tr>\n",
       "      <td>...</td>\n",
       "      <td>...</td>\n",
       "      <td>...</td>\n",
       "      <td>...</td>\n",
       "      <td>...</td>\n",
       "    </tr>\n",
       "    <tr>\n",
       "      <td>3981</td>\n",
       "      <td>113.0</td>\n",
       "      <td>3.000000e+07</td>\n",
       "      <td>6.9</td>\n",
       "      <td>29000</td>\n",
       "    </tr>\n",
       "    <tr>\n",
       "      <td>2734</td>\n",
       "      <td>145.0</td>\n",
       "      <td>6.000000e+06</td>\n",
       "      <td>8.3</td>\n",
       "      <td>12000</td>\n",
       "    </tr>\n",
       "    <tr>\n",
       "      <td>577</td>\n",
       "      <td>116.0</td>\n",
       "      <td>7.200000e+07</td>\n",
       "      <td>4.5</td>\n",
       "      <td>886</td>\n",
       "    </tr>\n",
       "    <tr>\n",
       "      <td>4598</td>\n",
       "      <td>98.0</td>\n",
       "      <td>3.975262e+07</td>\n",
       "      <td>6.9</td>\n",
       "      <td>43</td>\n",
       "    </tr>\n",
       "    <tr>\n",
       "      <td>4411</td>\n",
       "      <td>103.0</td>\n",
       "      <td>2.000000e+06</td>\n",
       "      <td>7.2</td>\n",
       "      <td>619</td>\n",
       "    </tr>\n",
       "  </tbody>\n",
       "</table>\n",
       "<p>454 rows × 4 columns</p>\n",
       "</div>"
      ],
      "text/plain": [
       "      Duration        Budget  Imdb_score  fb_likes\n",
       "92       120.0  1.650000e+08         5.5     67000\n",
       "1197     120.0  4.000000e+07         7.7     74000\n",
       "2092     170.0  2.200000e+07         5.6     15000\n",
       "1313      84.0  4.000000e+07         5.8       565\n",
       "1393     106.0  3.600000e+07         7.8     17000\n",
       "...        ...           ...         ...       ...\n",
       "3981     113.0  3.000000e+07         6.9     29000\n",
       "2734     145.0  6.000000e+06         8.3     12000\n",
       "577      116.0  7.200000e+07         4.5       886\n",
       "4598      98.0  3.975262e+07         6.9        43\n",
       "4411     103.0  2.000000e+06         7.2       619\n",
       "\n",
       "[454 rows x 4 columns]"
      ]
     },
     "execution_count": 11,
     "metadata": {},
     "output_type": "execute_result"
    }
   ],
   "source": [
    "X_test"
   ]
  },
  {
   "cell_type": "code",
   "execution_count": 12,
   "metadata": {},
   "outputs": [
    {
     "name": "stdout",
     "output_type": "stream",
     "text": [
      "-43725187.31715146\n",
      "[3.95003919e+05 9.43922286e-03 4.68855259e+06 1.20125441e+03]\n"
     ]
    }
   ],
   "source": [
    "print(regressor.intercept_)\n",
    "print(regressor.coef_)"
   ]
  },
  {
   "cell_type": "code",
   "execution_count": 13,
   "metadata": {},
   "outputs": [
    {
     "data": {
      "text/plain": [
       "92      102315545.0\n",
       "1197     96917897.0\n",
       "2092     59696176.0\n",
       "1313      4777007.0\n",
       "1393     12339633.0\n",
       "           ...     \n",
       "3981     61094903.0\n",
       "2734        26435.0\n",
       "577      32616869.0\n",
       "4598        22434.0\n",
       "4411      5132222.0\n",
       "Name: Gross, Length: 454, dtype: float64"
      ]
     },
     "execution_count": 13,
     "metadata": {},
     "output_type": "execute_result"
    }
   ],
   "source": [
    "y_test"
   ]
  },
  {
   "cell_type": "code",
   "execution_count": 14,
   "metadata": {},
   "outputs": [
    {
     "data": {
      "image/png": "[encoded data removed]",
      "text/plain": [
       "<Figure size 432x288 with 1 Axes>"
      ]
     },
     "metadata": {
      "needs_background": "light"
     },
     "output_type": "display_data"
    }
   ],
   "source": [
    "# Visualising the Training set results\n",
    "plt.scatter(X_train['fb_likes'], y_train, color = 'red')\n",
    "plt.plot(X_train['fb_likes'],regressor.predict(X_train), color = 'blue')\n",
    "plt.title('FB likes vs Gross (Training set)')\n",
    "plt.xlabel('FB Likes')\n",
    "plt.ylabel('Gross')\n",
    "plt.show()"
   ]
  },
  {
   "cell_type": "code",
   "execution_count": 15,
   "metadata": {},
   "outputs": [
    {
     "data": {
      "image/png": "[encoded data removed]",
      "text/plain": [
       "<Figure size 432x288 with 1 Axes>"
      ]
     },
     "metadata": {
      "needs_background": "light"
     },
     "output_type": "display_data"
    }
   ],
   "source": [
    "# Visualising the Test set results\n",
    "plt.scatter(X_test['fb_likes'], y_test, color = 'red')\n",
    "plt.plot(X_test['fb_likes'], regressor.predict(X_test), color = 'blue')\n",
    "plt.title('FB likes vs Gross (Test set)')\n",
    "plt.xlabel('FB Likes')\n",
    "plt.ylabel('Gross')\n",
    "plt.show()"
   ]
  },
  {
   "cell_type": "code",
   "execution_count": 16,
   "metadata": {},
   "outputs": [
    {
     "data": {
      "text/plain": [
       "array([[1.21e+02, 2.30e+08, 5.50e+00, 7.00e+04],\n",
       "       [1.20e+02, 4.00e+07, 7.70e+00, 7.40e+04]])"
      ]
     },
     "execution_count": 16,
     "metadata": {},
     "output_type": "execute_result"
    }
   ],
   "source": [
    "array=np.array([[121,230000000,5.5,70000],[120.0,4.000000e+07,7.7,74000]])\n",
    "array"
   ]
  },
  {
   "cell_type": "code",
   "execution_count": 17,
   "metadata": {},
   "outputs": [
    {
     "data": {
      "text/plain": [
       "array([1.16116156e+08, 1.29047533e+08])"
      ]
     },
     "execution_count": 17,
     "metadata": {},
     "output_type": "execute_result"
    }
   ],
   "source": [
    "value=regressor.predict(array)\n",
    "value"
   ]
  },
  {
   "cell_type": "code",
   "execution_count": 18,
   "metadata": {},
   "outputs": [
    {
     "name": "stderr",
     "output_type": "stream",
     "text": [
      "C:\\Users\\91702\\Anaconda3\\lib\\site-packages\\sklearn\\externals\\joblib\\__init__.py:15: DeprecationWarning: sklearn.externals.joblib is deprecated in 0.21 and will be removed in 0.23. Please import this functionality directly from joblib, which can be installed with: pip install joblib. If this warning is raised when loading pickled models, you may need to re-serialize those models with scikit-learn 0.21+.\n",
      "  warnings.warn(msg, category=DeprecationWarning)\n"
     ]
    }
   ],
   "source": [
    "from sklearn.externals import joblib"
   ]
  },
  {
   "cell_type": "code",
   "execution_count": 19,
   "metadata": {},
   "outputs": [
    {
     "data": {
      "text/plain": [
       "['Model.pkl']"
      ]
     },
     "execution_count": 19,
     "metadata": {},
     "output_type": "execute_result"
    }
   ],
   "source": [
    "joblib.dump(regressor,'Model.pkl')"
   ]
  },
  {
   "cell_type": "code",
   "execution_count": 20,
   "metadata": {},
   "outputs": [
    {
     "data": {
      "text/plain": [
       "<_io.TextIOWrapper name='Model.pkl' mode='r' encoding='cp1252'>"
      ]
     },
     "execution_count": 20,
     "metadata": {},
     "output_type": "execute_result"
    }
   ],
   "source": [
    "helo=open('Model.pkl','r')\n",
    "helo"
   ]
  },
  {
   "cell_type": "code",
   "execution_count": 21,
   "metadata": {},
   "outputs": [
    {
     "data": {
      "text/plain": [
       "array([1.16116156e+08, 1.29047533e+08])"
      ]
     },
     "execution_count": 21,
     "metadata": {},
     "output_type": "execute_result"
    }
   ],
   "source": [
    "modelReload=joblib.load('Model.pkl')\n",
    "modelReload.predict(array)"
   ]
  },
  {
   "cell_type": "code",
   "execution_count": 36,
   "metadata": {},
   "outputs": [],
   "source": [
    "temp={}\n",
    "temp['Duration']=121\n",
    "temp['Budget']=230000000\n",
    "temp['Imdb_score']=5.5\n",
    "temp['fb_likes']=70000"
   ]
  },
  {
   "cell_type": "code",
   "execution_count": 37,
   "metadata": {},
   "outputs": [],
   "source": [
    "testData=pd.DataFrame({'x' : temp}).transpose()"
   ]
  },
  {
   "cell_type": "code",
   "execution_count": 38,
   "metadata": {},
   "outputs": [
    {
     "data": {
      "text/html": [
       "<div>\n",
       "<style scoped>\n",
       "    .dataframe tbody tr th:only-of-type {\n",
       "        vertical-align: middle;\n",
       "    }\n",
       "\n",
       "    .dataframe tbody tr th {\n",
       "        vertical-align: top;\n",
       "    }\n",
       "\n",
       "    .dataframe thead th {\n",
       "        text-align: right;\n",
       "    }\n",
       "</style>\n",
       "<table border=\"1\" class=\"dataframe\">\n",
       "  <thead>\n",
       "    <tr style=\"text-align: right;\">\n",
       "      <th></th>\n",
       "      <th>Budget</th>\n",
       "      <th>Duration</th>\n",
       "      <th>Imdb_score</th>\n",
       "      <th>fb_likes</th>\n",
       "    </tr>\n",
       "  </thead>\n",
       "  <tbody>\n",
       "    <tr>\n",
       "      <td>x</td>\n",
       "      <td>230000000.0</td>\n",
       "      <td>121.0</td>\n",
       "      <td>5.5</td>\n",
       "      <td>70000.0</td>\n",
       "    </tr>\n",
       "  </tbody>\n",
       "</table>\n",
       "</div>"
      ],
      "text/plain": [
       "        Budget  Duration  Imdb_score  fb_likes\n",
       "x  230000000.0     121.0         5.5   70000.0"
      ]
     },
     "execution_count": 38,
     "metadata": {},
     "output_type": "execute_result"
    }
   ],
   "source": [
    "testData"
   ]
  },
  {
   "cell_type": "code",
   "execution_count": 39,
   "metadata": {},
   "outputs": [
    {
     "data": {
      "text/plain": [
       "90850967435745.86"
      ]
     },
     "execution_count": 39,
     "metadata": {},
     "output_type": "execute_result"
    }
   ],
   "source": [
    "regressor.predict(testData)[0]"
   ]
  },
  {
   "cell_type": "code",
   "execution_count": 26,
   "metadata": {},
   "outputs": [],
   "source": [
    "from sklearn import metrics \n",
    "test_set_rmse = (np.sqrt(metrics.mean_squared_error(y_test, y_pred)))\n",
    "\n",
    "test_set_r2 = metrics.r2_score(y_test, y_pred)"
   ]
  },
  {
   "cell_type": "code",
   "execution_count": 27,
   "metadata": {},
   "outputs": [
    {
     "data": {
      "text/plain": [
       "69704768.1118834"
      ]
     },
     "execution_count": 27,
     "metadata": {},
     "output_type": "execute_result"
    }
   ],
   "source": [
    "# Note that for rmse, the lower that value is, the better the fit\n",
    "test_set_rmse"
   ]
  },
  {
   "cell_type": "code",
   "execution_count": 28,
   "metadata": {},
   "outputs": [
    {
     "data": {
      "text/plain": [
       "0.2747855400484087"
      ]
     },
     "execution_count": 28,
     "metadata": {},
     "output_type": "execute_result"
    }
   ],
   "source": [
    "# The closer towards 1, the better the fit\n",
    "test_set_r2"
   ]
  }
 ],
 "metadata": {
  "kernelspec": {
   "display_name": "Python 3",
   "language": "python",
   "name": "python3"
  },
  "language_info": {
   "codemirror_mode": {
    "name": "ipython",
    "version": 3
   },
   "file_extension": ".py",
   "mimetype": "text/x-python",
   "name": "python",
   "nbconvert_exporter": "python",
   "pygments_lexer": "ipython3",
   "version": "3.7.4"
  }
 },
 "nbformat": 4,
 "nbformat_minor": 2
}
